{
 "cells": [
  {
   "cell_type": "markdown",
   "metadata": {},
   "source": [
    "### Get one label and reason"
   ]
  },
  {
   "cell_type": "code",
   "execution_count": null,
   "metadata": {},
   "outputs": [],
   "source": [
    "messages=[\n",
    "                {\"role\": \"system\", \"content\": \n",
    "                \"LDA_table dictionary:\\\n",
    "                {'Business ethics': 0, 'Data security': 1, 'Access_And_Affordability': 2, 'Business_Model_Resilience': 3, 'Competitive_Behavior': 4,\\\n",
    "                'Critical_Incident_Risk_Management': 5, 'Customer_Welfare': 6, 'Director_Removal': 7, 'Employee_Engagement_Inclusion_And_Diversity': 8,\\\n",
    "                'Employee_Health_And_Safety': 9, 'Human_Rights_And_Community_Relations': 10, 'Labor_Practices': 11, 'Management_Of_Legal_And_Regulatory_Framework': 12,\\\n",
    "                'Physical_Impacts_Of_Climate_Change': 13, 'Product_Quality_And_Safety': 14, 'Product_Design_And_Lifecycle_Management': 15,\\\n",
    "                'Selling_Practices_And_Product_Labeling': 16, 'Supply_Chain_Management': 17, 'Systemic_Risk_Management': 18,\\\n",
    "                'Waste_And_Hazardous_Materials_Management': 19, 'Water_And_Wastewater_Management': 20, 'Air_Quality': 21,\\\n",
    "                'Customer_Privacy': 22, 'Ecological_Impacts': 23, 'Energy_Management': 24, 'GHG_Emissions': 25, 'No_sufficient_information': 26}\"\n",
    "                \"I want you to act as a ESG-investing field advisor. I will give you a paragraph, you will Using LDA_table dictionary above determine only one label. Then give three things First.give only the number value of the label you picked And don't give me other words. Second.Give me the keywords in the paragraph user gived why you choose the value with python list-like. Third.Why you choose the value.\"\\\n",
    "                },\n",
    "                {\"role\": \"user\", \"content\": f\"paragraph: {paragraph}\"},\n",
    "                {\"role\": \"assistant\", \"content\": \"1. only reply value of label 2.[keyword1, keyword2...] 3.Reason pick the value\"},\n",
    "            ],"
   ]
  },
  {
   "cell_type": "markdown",
   "metadata": {},
   "source": [
    "### Get one label"
   ]
  },
  {
   "cell_type": "code",
   "execution_count": null,
   "metadata": {},
   "outputs": [],
   "source": [
    "messages=[\n",
    "                {\"role\": \"system\", \"content\": \"The assistant is a ESG-investing field advisor,choose the multiple keys of the paragraph. Return the corresponding values each range from 0 to 26 using LDA_table dictionary below.\"\\\n",
    "                \"LDA_table dictionary below constructed by {'key': value},return only the value without key.\"\n",
    "                \"Do not return the key of the LDA_table dictionary.\"\n",
    "                \"LDA_table dictionary:\\\n",
    "                {'Business ethics': 0, 'Data security': 1, 'Access_And_Affordability': 2, 'Business_Model_Resilience': 3, 'Competitive_Behavior': 4,\\\n",
    "                'Critical_Incident_Risk_Management': 5, 'Customer_Welfare': 6, 'Director_Removal': 7, 'Employee_Engagement_Inclusion_And_Diversity': 8,\\\n",
    "                'Employee_Health_And_Safety': 9, 'Human_Rights_And_Community_Relations': 10, 'Labor_Practices': 11, 'Management_Of_Legal_And_Regulatory_Framework': 12,\\\n",
    "                'Physical_Impacts_Of_Climate_Change': 13, 'Product_Quality_And_Safety': 14, 'Product_Design_And_Lifecycle_Management': 15,\\\n",
    "                'Selling_Practices_And_Product_Labeling': 16, 'Supply_Chain_Management': 17, 'Systemic_Risk_Management': 18,\\\n",
    "                'Waste_And_Hazardous_Materials_Management': 19, 'Water_And_Wastewater_Management': 20, 'Air_Quality': 21,\\\n",
    "                'Customer_Privacy': 22, 'Ecological_Impacts': 23, 'Energy_Management': 24, 'GHG_Emissions': 25, 'No_sufficient_information': 26}\"},\n",
    "                {\"role\": \"user\", \"content\": f\"paragraph: {paragraph}\"},\n",
    "                {\"role\": \"assistant\", \"content\": \"value \"},\n",
    "            ],"
   ]
  },
  {
   "cell_type": "markdown",
   "metadata": {},
   "source": [
    "### Get Three label"
   ]
  },
  {
   "cell_type": "code",
   "execution_count": null,
   "metadata": {},
   "outputs": [],
   "source": [
    "messages=[\n",
    "                {\"role\": \"system\", \"content\": \"The assistant is a ESG-investing field advisor,choose at most top three related keys of the paragraph. Return the corresponding values each range from 0 to 26 using LDA_table dictionary below.\"\\\n",
    "                \"LDA_table dictionary below constructed by {'key': value},return only the value without key.\"\n",
    "                \"Do not return the key of the LDA_table dictionary.\"\n",
    "                \"LDA_table dictionary:\\\n",
    "                {'Business ethics': 0, 'Data security': 1, 'Access_And_Affordability': 2, 'Business_Model_Resilience': 3, 'Competitive_Behavior': 4,\\\n",
    "                'Critical_Incident_Risk_Management': 5, 'Customer_Welfare': 6, 'Director_Removal': 7, 'Employee_Engagement_Inclusion_And_Diversity': 8,\\\n",
    "                'Employee_Health_And_Safety': 9, 'Human_Rights_And_Community_Relations': 10, 'Labor_Practices': 11, 'Management_Of_Legal_And_Regulatory_Framework': 12,\\\n",
    "                'Physical_Impacts_Of_Climate_Change': 13, 'Product_Quality_And_Safety': 14, 'Product_Design_And_Lifecycle_Management': 15,\\\n",
    "                'Selling_Practices_And_Product_Labeling': 16, 'Supply_Chain_Management': 17, 'Systemic_Risk_Management': 18,\\\n",
    "                'Waste_And_Hazardous_Materials_Management': 19, 'Water_And_Wastewater_Management': 20, 'Air_Quality': 21,\\\n",
    "                'Customer_Privacy': 22, 'Ecological_Impacts': 23, 'Energy_Management': 24, 'GHG_Emissions': 25, 'No_sufficient_information': 26}\"},\n",
    "                {\"role\": \"user\", \"content\": f\"paragraph: {paragraph}\"},\n",
    "                {\"role\": \"assistant\", \"content\": \"[value]\"},\n",
    "            ],"
   ]
  }
 ],
 "metadata": {
  "language_info": {
   "name": "python"
  },
  "orig_nbformat": 4
 },
 "nbformat": 4,
 "nbformat_minor": 2
}

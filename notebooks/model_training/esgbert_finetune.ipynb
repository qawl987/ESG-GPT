{
 "cells": [
  {
   "cell_type": "code",
   "execution_count": 196,
   "metadata": {},
   "outputs": [
    {
     "name": "stdout",
     "output_type": "stream",
     "text": [
      "cuda:0\n"
     ]
    }
   ],
   "source": [
    "import torch\n",
    "import pandas as pd\n",
    "import os\n",
    "import ast\n",
    "from sklearn.model_selection import train_test_split\n",
    "from torch.nn import CrossEntropyLoss, LogSoftmax, Linear, Sigmoid\n",
    "from torch.utils.data import DataLoader\n",
    "from transformers import AutoTokenizer\n",
    "from torch.optim import AdamW\n",
    "from typing import Tuple\n",
    "from tqdm import tqdm\n",
    "os.environ[\"CUDA_VISIBLE_DEVICES\"] = \"0\"\n",
    "device = torch.device(\"cuda:0\" if torch.cuda.is_available() else \"cpu\")\n",
    "print(device)\n",
    "torch.manual_seed(42)\n",
    "if torch.cuda.is_available():\n",
    "    torch.cuda.manual_seed_all(42)"
   ]
  },
  {
   "cell_type": "code",
   "execution_count": 197,
   "metadata": {},
   "outputs": [],
   "source": [
    "from transformers import AutoModelForSequenceClassification\n",
    "class EsgBert(torch.nn.Module):\n",
    "    def __init__(self):\n",
    "        super(EsgBert, self).__init__()\n",
    "        self.bert = AutoModelForSequenceClassification.from_pretrained('nbroad/ESG-BERT')\n",
    "        self.fc = Linear(26, 27)\n",
    "        \n",
    "    def forward(self, input_ids, attention_mask):\n",
    "        output = self.bert(input_ids=input_ids, attention_mask=attention_mask, return_dict=True)\n",
    "        logits = output[0]\n",
    "        out = self.fc(logits)\n",
    "        output_layer = LogSoftmax(dim=1)\n",
    "        return output_layer(out)"
   ]
  },
  {
   "cell_type": "code",
   "execution_count": 198,
   "metadata": {},
   "outputs": [],
   "source": [
    "class TrainDataset():\n",
    "    def __init__(self, encodings, y):\n",
    "        self.encodings = encodings\n",
    "        self.y = y\n",
    "        \n",
    "    def __getitem__(self, idx):\n",
    "        input_ids =  {key: torch.tensor(val[idx]) for key, val in self.encodings.items()}\n",
    "        label = torch.tensor(self.y[idx])\n",
    "        return input_ids, label\n",
    "\n",
    "    def __len__(self):\n",
    "        return len(self.encodings.input_ids)"
   ]
  },
  {
   "cell_type": "code",
   "execution_count": 199,
   "metadata": {},
   "outputs": [],
   "source": [
    "class TestDataset():\n",
    "    def __init__(self, encodings):\n",
    "        self.encodings = encodings\n",
    "        \n",
    "    def __getitem__(self, idx):\n",
    "        input_ids =  {key: torch.tensor(val[idx]) for key, val in self.encodings.items()}\n",
    "        return input_ids\n",
    "\n",
    "    def __len__(self):\n",
    "        return len(self.encodings.input_ids)"
   ]
  },
  {
   "cell_type": "code",
   "execution_count": 200,
   "metadata": {},
   "outputs": [],
   "source": [
    "class EsgBertPredict():\n",
    "    def __init__(self, train_csv_path, test_csv_path, test_csv_output, nation, train_source, test_source, test_output, hyper_parameters) -> None:\n",
    "        self.TRAIN_CSV_PATH = train_csv_path\n",
    "        self.TEST_CSV_PATH = test_csv_path\n",
    "        self.TEST_CSV_OUTPUT_PATH = test_csv_output\n",
    "        self.NATION = nation\n",
    "        self.TRAIN_SOURCE = train_source\n",
    "        self.TEST_SOURCE = test_source\n",
    "        self.TEST_OUTPUT = test_output\n",
    "        self.HP = hyper_parameters\n",
    "        self.device = torch.device('cuda') if torch.cuda.is_available() else torch.device('cpu')\n",
    "        self.df_train = None\n",
    "        self.df_test = None\n",
    "        \n",
    "    @staticmethod\n",
    "    def _convert_onehot(row):\n",
    "        y = []\n",
    "        for i in range(27):\n",
    "            if i in row:\n",
    "                y.append(1)\n",
    "            else:\n",
    "                y.append(0)\n",
    "        return y\n",
    "    \n",
    "    def _preprocess(self, df: pd.DataFrame):\n",
    "        df['label'] = df['label'].apply(ast.literal_eval)\n",
    "        df['label'] = df['label'].apply(self._convert_onehot)\n",
    "        x_train = df['paragraph']\n",
    "        y_train = df['label']\n",
    "        return df, x_train, y_train\n",
    "\n",
    "    def _read_csv(self, path: str):\n",
    "        self.df_train = pd.read_csv(path, dtype={'label': object})\n",
    "        \n",
    "    def _tokenizer(self, x: pd.Series):\n",
    "        tokenizer = AutoTokenizer.from_pretrained('nbroad/ESG-BERT')\n",
    "        encodings = tokenizer(x.to_list(), truncation=True, padding=True)\n",
    "        return encodings\n",
    "    \n",
    "    def _get_train_dataset(self, train_encodings, y_train):\n",
    "        dataset = TrainDataset(train_encodings, y_train)\n",
    "        train, valid= train_test_split(dataset, test_size=0.2, random_state=42)\n",
    "        return train, valid\n",
    "    \n",
    "    def _get_test_dataset(self, train_encodings):\n",
    "        dataset = TestDataset(train_encodings)\n",
    "        return dataset\n",
    "    \n",
    "    def _get_dataloader(self, dataset) -> DataLoader:\n",
    "        data_loader = DataLoader(dataset, batch_size=self.HP['batch_size'], shuffle=True)\n",
    "        return data_loader\n",
    "    \n",
    "    def _get_model(self) -> Tuple[EsgBert, torch.optim.Optimizer]:\n",
    "        model = EsgBert().to(device)\n",
    "        optim = AdamW(model.parameters(), lr=1e-5)\n",
    "        criterion = CrossEntropyLoss()\n",
    "        return model, optim, criterion\n",
    "    \n",
    "    def train(self, model: EsgBert, optim: torch.optim.Optimizer, criterion, train_loader, epoch):\n",
    "        model.train()\n",
    "        running_loss = 0.0\n",
    "        loop = tqdm(train_loader, leave=True)\n",
    "        for _, batch in enumerate(loop):\n",
    "            optim.zero_grad()\n",
    "            inputs, y = batch\n",
    "            input_ids = inputs['input_ids'].to(self.device)\n",
    "            attention_mask = inputs['attention_mask'].to(self.device)\n",
    "            y = y.to(self.device)\n",
    "            outputs = model(input_ids=input_ids, attention_mask=attention_mask)\n",
    "            loss = criterion(outputs, y.float())\n",
    "            # calculate loss\n",
    "            loss.backward()\n",
    "            # update parameters\n",
    "            optim.step()\n",
    "            running_loss += loss.item()\n",
    "        print(f'Epoch: {epoch} Loss {running_loss:.4f}')\n",
    "        running_loss = 0.0\n",
    "        \n",
    "    @torch.no_grad()\n",
    "    def valid(self, model: EsgBert, optim: torch.optim.Optimizer, criterion, valid_loader, epoch):\n",
    "        model.eval()\n",
    "        running_loss = 0.0\n",
    "        loop = tqdm(valid_loader, leave=True)\n",
    "        for _, batch in enumerate(loop):\n",
    "            optim.zero_grad()\n",
    "            inputs, y = batch\n",
    "            input_ids = inputs['input_ids'].to(self.device)\n",
    "            attention_mask = inputs['attention_mask'].to(self.device)\n",
    "            y = y.to(self.device)\n",
    "            outputs = model(input_ids=input_ids, attention_mask=attention_mask)\n",
    "            loss = criterion(outputs, y.float())\n",
    "            loss.detach().cpu()\n",
    "            #  collect output into list\n",
    "            outputs = outputs.cpu().tolist()\n",
    "            running_loss += loss.item()\n",
    "        print(f'Epoch {epoch} Loss {running_loss:.4f}')\n",
    "        running_loss = 0.0\n",
    "            \n",
    "    @torch.no_grad()\n",
    "    def test(self, model: EsgBert, optim: torch.optim.Optimizer, test_loader):\n",
    "        model.eval()\n",
    "        output_label = []\n",
    "        loop = tqdm(test_loader, leave=True)\n",
    "        sigmoid = Sigmoid()\n",
    "        for batch_id, batch in enumerate(loop):\n",
    "            optim.zero_grad()\n",
    "            inputs = batch\n",
    "            input_ids = inputs['input_ids'].to(self.device)\n",
    "            attention_mask = inputs['attention_mask'].to(self.device)\n",
    "            outputs = model(input_ids=input_ids, attention_mask=attention_mask)\n",
    "            outputs = sigmoid(outputs)\n",
    "            predicted_labels = (outputs > self.HP['threshold']).int()\n",
    "            predicted_labels = predicted_labels.cpu().tolist()\n",
    "            output_label.extend(predicted_labels)\n",
    "        self._gen_csv(output_label)\n",
    "        \n",
    "    def _gen_csv(self, output_label):\n",
    "        self.df_test['label'] = output_label\n",
    "        self.df_test.to_csv(f'{self.TEST_CSV_OUTPUT_PATH}/{self.NATION}/{self.TEST_OUTPUT}.csv', index=False)\n",
    "        \n",
    "    def main(self):\n",
    "        df_train = pd.read_csv(f'{self.TRAIN_CSV_PATH}/{self.NATION}/{self.TRAIN_SOURCE}.csv', dtype={'label': object})\n",
    "        self.df_train, x_train, y_train = self._preprocess(df_train)\n",
    "        train_encodings = self._tokenizer(x_train)\n",
    "        train_dataset, valid_dataset = self._get_train_dataset(train_encodings, y_train)\n",
    "        train_loader, valid_loader = self._get_dataloader(train_dataset), self._get_dataloader(valid_dataset)\n",
    "        model, optim, criterion = self._get_model()\n",
    "        # train & validate\n",
    "        for epoch in range(self.HP['epoch']):\n",
    "            self.train(model, optim, criterion, train_loader, epoch)\n",
    "            self.valid(model, optim, criterion, valid_loader, epoch)\n",
    "\n",
    "        # test\n",
    "        self.df_test = pd.read_csv(f'{self.TEST_CSV_PATH}/{self.NATION}/{self.TEST_SOURCE}.csv')\n",
    "        x_test = self.df_test['paragraph']\n",
    "        test_encodings = self._tokenizer(x_test)\n",
    "        test_dataset = self._get_test_dataset(test_encodings)\n",
    "        test_loader = self._get_dataloader(test_dataset)\n",
    "        self.test(model, optim, test_loader)"
   ]
  },
  {
   "cell_type": "code",
   "execution_count": 201,
   "metadata": {},
   "outputs": [],
   "source": [
    "HYPER_PARAMETERS = {\n",
    "    'batch_size': 8,\n",
    "    'lr': 1e-5,\n",
    "    'epoch': 1,\n",
    "    'threshold': 0.02\n",
    "}"
   ]
  },
  {
   "cell_type": "code",
   "execution_count": 202,
   "metadata": {},
   "outputs": [],
   "source": [
    "TRAIN_CSV_PATH = '../../data/csv_gpt_label'\n",
    "TEST_CSV_PATH = '../../data/csv_source'\n",
    "TEST_CSV_OUTPUT_PATH = '../../data/csv_output'\n",
    "NATION = 'american'\n",
    "TRAIN_SOURCE = 'gpt_small'\n",
    "TEST_SOURCE = '4_apple_small'\n",
    "TEST_OUTPUT = 'finetune_output'"
   ]
  },
  {
   "cell_type": "code",
   "execution_count": 203,
   "metadata": {},
   "outputs": [
    {
     "name": "stderr",
     "output_type": "stream",
     "text": [
      "100%|██████████| 1/1 [00:00<00:00,  1.89it/s]\n"
     ]
    },
    {
     "name": "stdout",
     "output_type": "stream",
     "text": [
      "Epoch: 0 Loss 6.0585\n"
     ]
    },
    {
     "name": "stderr",
     "output_type": "stream",
     "text": [
      "100%|██████████| 1/1 [00:00<00:00, 11.19it/s]\n"
     ]
    },
    {
     "name": "stdout",
     "output_type": "stream",
     "text": [
      "Epoch 0 Loss 7.1440\n"
     ]
    },
    {
     "name": "stderr",
     "output_type": "stream",
     "text": [
      "100%|██████████| 2/2 [00:00<00:00,  6.41it/s]\n"
     ]
    }
   ],
   "source": [
    "esgbert = EsgBertPredict(TRAIN_CSV_PATH, TEST_CSV_PATH, TEST_CSV_OUTPUT_PATH, NATION, TRAIN_SOURCE, TEST_SOURCE, TEST_OUTPUT, HYPER_PARAMETERS)\n",
    "esgbert.main()"
   ]
  }
 ],
 "metadata": {
  "kernelspec": {
   "display_name": "esg",
   "language": "python",
   "name": "python3"
  },
  "language_info": {
   "codemirror_mode": {
    "name": "ipython",
    "version": 3
   },
   "file_extension": ".py",
   "mimetype": "text/x-python",
   "name": "python",
   "nbconvert_exporter": "python",
   "pygments_lexer": "ipython3",
   "version": "3.10.0"
  }
 },
 "nbformat": 4,
 "nbformat_minor": 2
}

{
 "cells": [
  {
   "cell_type": "code",
   "execution_count": 1,
   "metadata": {},
   "outputs": [],
   "source": [
    "import sys\n",
    "sys.path.append('c:\\\\Users\\\\GameToGo\\\\Documents\\\\Vscode\\\\Esg-bert-draw\\\\notebooks')\n",
    "import pandas as pd\n",
    "from utils import utils\n",
    "from utils import clean_gpt_label"
   ]
  },
  {
   "cell_type": "code",
   "execution_count": 2,
   "metadata": {},
   "outputs": [],
   "source": [
    "read_directory = '../../data/CSV/MultiLabel/source_taiwan_3label'\n",
    "output_directory = '../../data/CSV25Company'"
   ]
  },
  {
   "cell_type": "code",
   "execution_count": 3,
   "metadata": {},
   "outputs": [],
   "source": [
    "file_list = ['1_umc_1_154.pdf',\n",
    " '2_tsmc_1_210.pdf', '3_macronix_1_114.pdf', '4_esun_1_154.pdf', '5_eme_1_46.pdf',\n",
    " '6_asus_1_108.pdf', '7_acer_1_127.pdf', '8_witron_1_93.pdf', '9_honhai_1_22.pdf', '10_compal_1_169.pdf',\n",
    "  '11_quanta_1_123.pdf', '12_formosa_1_18.pdf', '14_qisda_1_134.pdf', '15_msi_1_97.pdf',\n",
    " '18_novatek_1_140.pdf', '19_mediatek_1_97.pdf', \n",
    "   '21_cathay_1_52.pdf', '23_fubon_1_89.pdf', '24_mega_1_68.pdf', '25_ctbc_1_117.pdf']"
   ]
  },
  {
   "cell_type": "code",
   "execution_count": 7,
   "metadata": {},
   "outputs": [],
   "source": [
    "first = pd.DataFrame()"
   ]
  },
  {
   "cell_type": "code",
   "execution_count": null,
   "metadata": {},
   "outputs": [],
   "source": [
    "for file in file_list:\n",
    "    print(file)\n",
    "    file_name = file.strip('.pdf')\n",
    "    df = pd.read_csv(f'{read_directory}/{file_name}.csv')\n",
    "    df['label'] = df['label'].map(clean_gpt_label.clean_gpt_label)\n",
    "    tmp = clean_gpt_label.filter_abnormal_and_short(df)\n",
    "    tmp['label'] = tmp['label'].map(clean_gpt_label.filter_26_label)\n",
    "    print(len(tmp) / len(df))\n",
    "    first = pd.concat([first, tmp], ignore_index=True)"
   ]
  },
  {
   "cell_type": "code",
   "execution_count": 15,
   "metadata": {},
   "outputs": [],
   "source": [
    "first.to_csv(f'{output_directory}/source_25_taiwan_3labels.csv', index=False)"
   ]
  },
  {
   "cell_type": "markdown",
   "metadata": {},
   "source": [
    "# Appendix"
   ]
  }
 ],
 "metadata": {
  "kernelspec": {
   "display_name": "esg",
   "language": "python",
   "name": "python3"
  },
  "language_info": {
   "codemirror_mode": {
    "name": "ipython",
    "version": 3
   },
   "file_extension": ".py",
   "mimetype": "text/x-python",
   "name": "python",
   "nbconvert_exporter": "python",
   "pygments_lexer": "ipython3",
   "version": "3.9.7"
  },
  "orig_nbformat": 4
 },
 "nbformat": 4,
 "nbformat_minor": 2
}

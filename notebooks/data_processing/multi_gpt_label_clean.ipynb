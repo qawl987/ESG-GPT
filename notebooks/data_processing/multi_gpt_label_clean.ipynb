{
 "cells": [
  {
   "cell_type": "code",
   "execution_count": 25,
   "metadata": {},
   "outputs": [],
   "source": [
    "import sys\n",
    "sys.path.append('d:\\\\VScodeProject\\\\ESG-GPT\\\\notebooks\\\\')\n",
    "import pandas as pd\n",
    "from utils import utils\n",
    "from utils import clean_gpt_label"
   ]
  },
  {
   "cell_type": "code",
   "execution_count": 26,
   "metadata": {},
   "outputs": [],
   "source": [
    "NATION = 'american'\n",
    "SOURCE_PATH = '../../data/csv_gpt_label/'\n",
    "OUTPUT_PATH = '../../data/csv_gpt_label/'"
   ]
  },
  {
   "cell_type": "code",
   "execution_count": 27,
   "metadata": {},
   "outputs": [],
   "source": [
    "file_list = utils.get_all_file_list('american')"
   ]
  },
  {
   "cell_type": "code",
   "execution_count": 28,
   "metadata": {},
   "outputs": [],
   "source": [
    "class CleanMutliGptLabel():\n",
    "    def __init__(self, file_list, nation, source_path, output_path) -> None:\n",
    "        self.file_list = file_list\n",
    "        self.NATION = nation\n",
    "        self.SOURCE_PATH = source_path\n",
    "        self.OUTPUT_PATH = output_path\n",
    "    def loop_folder(self):\n",
    "        first = pd.DataFrame()\n",
    "        for file in file_list:\n",
    "            print(file)\n",
    "            try:\n",
    "                file_name = file.strip('.pdf')\n",
    "                df = pd.read_csv(f'{self.SOURCE_PATH}/{self.NATION}/{file_name}.csv')\n",
    "                df['label'] = df['label'].map(clean_gpt_label.clean_gpt_label)\n",
    "                tmp = clean_gpt_label.filter_abnormal_and_short(df)\n",
    "                tmp['label'] = tmp['label'].map(clean_gpt_label.filter_26_label)\n",
    "                print(f'After clean {file_name} usable rate is: ', len(tmp) / len(df))\n",
    "                first = pd.concat([first, tmp], ignore_index=True)\n",
    "            except Exception as e:\n",
    "                print(f'Error on {file_name}', e)\n",
    "        first.to_csv(f'{self.OUTPUT_PATH}/gpt_{self.NATION}.csv', index=False)"
   ]
  },
  {
   "cell_type": "code",
   "execution_count": 29,
   "metadata": {},
   "outputs": [
    {
     "name": "stdout",
     "output_type": "stream",
     "text": [
      "1_dow_1_85.pdf\n",
      "Error on 1_dow_1_85 [Errno 2] No such file or directory: '../../data/csv_gpt_label//american/1_dow_1_85.csv'\n",
      "2_agilent_1_106.pdf\n",
      "Error on 2_agilent_1_106 [Errno 2] No such file or directory: '../../data/csv_gpt_label//american/2_agilent_1_106.csv'\n",
      "3_amazon_1_79.pdf\n",
      "Error on 3_amazon_1_79 [Errno 2] No such file or directory: '../../data/csv_gpt_label//american/3_amazon_1_79.csv'\n",
      "4_apple_1_72.pdf\n",
      "After clean 4_apple_1_72 usable rate is:  0.9612277867528272\n",
      "5_boeing_1_66.pdf\n",
      "After clean 5_boeing_1_66 usable rate is:  0.8772845953002611\n",
      "6_bxp_1_65.pdf\n",
      "Error on 6_bxp_1_65 [Errno 2] No such file or directory: '../../data/csv_gpt_label//american/6_bxp_1_65.csv'\n",
      "7_charles_1_50.pdf\n",
      "Error on 7_charles_1_50 [Errno 2] No such file or directory: '../../data/csv_gpt_label//american/7_charles_1_50.csv'\n",
      "8_cisco_1_56.pdf\n",
      "Error on 8_cisco_1_56 [Errno 2] No such file or directory: '../../data/csv_gpt_label//american/8_cisco_1_56.csv'\n",
      "9_citigroup_1_137.pdf\n",
      "Error on 9_citigroup_1_137 [Errno 2] No such file or directory: '../../data/csv_gpt_label//american/9_citigroup_1_137.csv'\n",
      "10_cme_1_34.pdf\n",
      "Error on 10_cme_1_34 [Errno 2] No such file or directory: '../../data/csv_gpt_label//american/10_cme_1_34.csv'\n",
      "11_colgate_1_84.pdf\n",
      "Error on 11_colgate_1_84 [Errno 2] No such file or directory: '../../data/csv_gpt_label//american/11_colgate_1_84.csv'\n",
      "12_corning_1_71.pdf\n",
      "Error on 12_corning_1_71 [Errno 2] No such file or directory: '../../data/csv_gpt_label//american/12_corning_1_71.csv'\n",
      "13_expeditor_1_37.pdf\n",
      "Error on 13_expeditor_1_37 [Errno 2] No such file or directory: '../../data/csv_gpt_label//american/13_expeditor_1_37.csv'\n",
      "14_eei_1_80.pdf\n",
      "Error on 14_eei_1_80 [Errno 2] No such file or directory: '../../data/csv_gpt_label//american/14_eei_1_80.csv'\n",
      "15_itt_1_44.pdf\n",
      "Error on 15_itt_1_44 [Errno 2] No such file or directory: '../../data/csv_gpt_label//american/15_itt_1_44.csv'\n",
      "16_fedex_1_34.pdf\n",
      "Error on 16_fedex_1_34 [Errno 2] No such file or directory: '../../data/csv_gpt_label//american/16_fedex_1_34.csv'\n",
      "17_firstscolar_1_57.pdf\n",
      "Error on 17_firstscolar_1_57 [Errno 2] No such file or directory: '../../data/csv_gpt_label//american/17_firstscolar_1_57.csv'\n",
      "18_google_1_14.pdf\n",
      "Error on 18_google_1_14 [Errno 2] No such file or directory: '../../data/csv_gpt_label//american/18_google_1_14.csv'\n",
      "19_intel_1_86.pdf\n",
      "Error on 19_intel_1_86 [Errno 2] No such file or directory: '../../data/csv_gpt_label//american/19_intel_1_86.csv'\n",
      "20_jpmorgan_1_61.pdf\n",
      "Error on 20_jpmorgan_1_61 [Errno 2] No such file or directory: '../../data/csv_gpt_label//american/20_jpmorgan_1_61.csv'\n",
      "21_microsoft_1_89.pdf\n",
      "Error on 21_microsoft_1_89 [Errno 2] No such file or directory: '../../data/csv_gpt_label//american/21_microsoft_1_89.csv'\n",
      "22_rockwell_1_58.pdf\n",
      "Error on 22_rockwell_1_58 [Errno 2] No such file or directory: '../../data/csv_gpt_label//american/22_rockwell_1_58.csv'\n",
      "23_ibm_1_49.pdf\n",
      "Error on 23_ibm_1_49 [Errno 2] No such file or directory: '../../data/csv_gpt_label//american/23_ibm_1_49.csv'\n",
      "24_traveler_1_147.pdf\n",
      "Error on 24_traveler_1_147 [Errno 2] No such file or directory: '../../data/csv_gpt_label//american/24_traveler_1_147.csv'\n",
      "25_visa_1_52.pdf\n",
      "Error on 25_visa_1_52 [Errno 2] No such file or directory: '../../data/csv_gpt_label//american/25_visa_1_52.csv'\n",
      "0710_Tino_clean.pdf\n",
      "Error on 0710_Tino_clean [Errno 2] No such file or directory: '../../data/csv_gpt_label//american/0710_Tino_clean.csv'\n"
     ]
    }
   ],
   "source": [
    "clean_multi_gpt_label = CleanMutliGptLabel(file_list, NATION, SOURCE_PATH, OUTPUT_PATH)\n",
    "clean_multi_gpt_label.loop_folder()"
   ]
  }
 ],
 "metadata": {
  "kernelspec": {
   "display_name": "esg",
   "language": "python",
   "name": "python3"
  },
  "language_info": {
   "codemirror_mode": {
    "name": "ipython",
    "version": 3
   },
   "file_extension": ".py",
   "mimetype": "text/x-python",
   "name": "python",
   "nbconvert_exporter": "python",
   "pygments_lexer": "ipython3",
   "version": "3.12.0"
  },
  "orig_nbformat": 4
 },
 "nbformat": 4,
 "nbformat_minor": 2
}

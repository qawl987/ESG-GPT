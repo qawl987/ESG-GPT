{
 "cells": [
  {
   "cell_type": "code",
   "execution_count": 4,
   "metadata": {},
   "outputs": [],
   "source": [
    "import pandas as pd"
   ]
  },
  {
   "cell_type": "code",
   "execution_count": 5,
   "metadata": {},
   "outputs": [],
   "source": [
    "file_list = [\n",
    "# '1_dow_1_85.pdf', \n",
    "'2_agilent_1_106.pdf', '3_amazon_1_79.pdf', '4_apple_1_72.pdf',\n",
    "'5_boeing_1_66.pdf', '6_bxp_1_65.pdf', '7_charles_1_50.pdf', '8_cisco_1_56.pdf', '9_citigroup_1_137.pdf', '10_cme_1_34.pdf', \n",
    "'11_colgate_1_84.pdf', '12_corning_1_71.pdf', '13_expeditor_1_37.pdf', '14_eei_1_80.pdf', '15_itt_1_44.pdf', \n",
    "'16_fedex_1_34.pdf', '17_firstscolar_1_57.pdf', '18_google_1_14.pdf', '19_intel_1_86.pdf', '20_jpmorgan_1_61.pdf', \n",
    "'21_microsoft_1_89.pdf', '22_rockwell_1_58.pdf', '23_ibm_1_49.pdf', '24_traveler_1_147.pdf', '25_visa_1_52.pdf', '0710_Tino_clean.pdf']"
   ]
  },
  {
   "cell_type": "code",
   "execution_count": null,
   "metadata": {},
   "outputs": [],
   "source": [
    "for file in file_list:\n",
    "    print(file)\n",
    "    file_name = file.strip('.pdf')\n",
    "    df = pd.read_csv(f'./american/predict_xml/{file_name}.csv')\n",
    "    print(len(df))\n",
    "    filtered_df = df.loc[df['label'].str.match(r'^([0-9]|1[0-9]|2[0-6])$')]\n",
    "    filtered_df.to_csv(f'american/clean_predict_csv/{file_name}.csv', index=False)\n",
    "    print(len(filtered_df))\n",
    "    # label = df['label']\n",
    "    # count = len(label[~label.str.match(r'^([0-9]|1[0-9]|2[0-6])$')])\n",
    "    # print(count / len(label))"
   ]
  },
  {
   "cell_type": "code",
   "execution_count": 6,
   "metadata": {},
   "outputs": [],
   "source": [
    "df1 = pd.read_csv(f'./american/clean_predict_csv/1_dow_1_85.csv')"
   ]
  },
  {
   "cell_type": "code",
   "execution_count": null,
   "metadata": {},
   "outputs": [],
   "source": [
    "for file in file_list:\n",
    "    print(file)\n",
    "    file_name = file.strip('.pdf')\n",
    "    df = pd.read_csv(f'./american/clean_predict_csv/{file_name}.csv')\n",
    "    print(len(df))\n",
    "    df1 = pd.concat([df1, df], ignore_index=True)\n",
    "    # filtered_df.to_csv(f'american/clean_predict_csv/{file_name}.csv', index=False)\n",
    "    # print(len(filtered_df))"
   ]
  },
  {
   "cell_type": "code",
   "execution_count": 8,
   "metadata": {},
   "outputs": [],
   "source": [
    "invalid_values = []\n",
    "for index, row in df1.iterrows():\n",
    "    try:\n",
    "        df1.at[index, 'label'] = int(row['label'])\n",
    "    except ValueError:\n",
    "        invalid_values.append(row['label'])"
   ]
  },
  {
   "cell_type": "code",
   "execution_count": 11,
   "metadata": {},
   "outputs": [],
   "source": [
    "df1['label'] = df1['label'].astype('int32')"
   ]
  },
  {
   "cell_type": "code",
   "execution_count": 12,
   "metadata": {},
   "outputs": [],
   "source": [
    "non_integer_rows = df1[pd.to_numeric(df1['label'], errors='coerce').isna()]"
   ]
  },
  {
   "cell_type": "code",
   "execution_count": 14,
   "metadata": {},
   "outputs": [],
   "source": [
    "df1.to_csv('25_english_gpt_label_Tino.csv', index=False)"
   ]
  },
  {
   "cell_type": "code",
   "execution_count": 15,
   "metadata": {},
   "outputs": [],
   "source": [
    "result = df1[df1['label'] == 26]"
   ]
  },
  {
   "cell_type": "markdown",
   "metadata": {},
   "source": [
    "# Appendix"
   ]
  }
 ],
 "metadata": {
  "kernelspec": {
   "display_name": "esg",
   "language": "python",
   "name": "python3"
  },
  "language_info": {
   "codemirror_mode": {
    "name": "ipython",
    "version": 3
   },
   "file_extension": ".py",
   "mimetype": "text/x-python",
   "name": "python",
   "nbconvert_exporter": "python",
   "pygments_lexer": "ipython3",
   "version": "3.9.7"
  },
  "orig_nbformat": 4
 },
 "nbformat": 4,
 "nbformat_minor": 2
}

{
 "cells": [
  {
   "cell_type": "code",
   "execution_count": 1,
   "metadata": {},
   "outputs": [],
   "source": [
    "import sys\n",
    "sys.path.append('c:\\\\Users\\\\GameToGo\\\\Documents\\\\Vscode\\\\Esg-bert-draw\\\\notebooks')"
   ]
  },
  {
   "cell_type": "code",
   "execution_count": 2,
   "metadata": {},
   "outputs": [],
   "source": [
    "from utils import utils\n",
    "from utils import xml_parse"
   ]
  },
  {
   "cell_type": "code",
   "execution_count": 3,
   "metadata": {},
   "outputs": [
    {
     "name": "stdout",
     "output_type": "stream",
     "text": [
      "Current Directory: c:\\Users\\GameToGo\\Documents\\Vscode\\Esg-bert-draw\\notebooks\\data_processing\n",
      "Notebook Path: c:\\Users\\GameToGo\\Documents\\Vscode\\Esg-bert-draw\\notebooks\\data_processing\\your_notebook_filename.ipynb\n"
     ]
    }
   ],
   "source": [
    "import os\n",
    "\n",
    "# Print current working directory\n",
    "current_directory = os.getcwd()\n",
    "print(\"Current Directory:\", current_directory)\n",
    "\n",
    "# Print path of the notebook\n",
    "notebook_path = os.path.abspath(\"your_notebook_filename.ipynb\")\n",
    "print(\"Notebook Path:\", notebook_path)"
   ]
  },
  {
   "cell_type": "code",
   "execution_count": 4,
   "metadata": {},
   "outputs": [],
   "source": [
    "file_list = utils.get_all_file_list('taiwan')"
   ]
  },
  {
   "cell_type": "code",
   "execution_count": 6,
   "metadata": {},
   "outputs": [
    {
     "name": "stdout",
     "output_type": "stream",
     "text": [
      "An error occurred while processing ['1_umc_1_154.pdf', '2_agilent_1_106.pdf', '3_amazon_1_79.pdf', '4_apple_1_72.pdf', '5_boeing_1_66.pdf', '6_bxp_1_65.pdf', '7_charles_1_50.pdf', '8_cisco_1_56.pdf', '9_citigroup_1_137.pdf', '10_cme_1_34.pdf', '11_colgate_1_84.pdf', '12_corning_1_71.pdf', '13_expeditor_1_37.pdf', '14_eei_1_80.pdf', '15_itt_1_44.pdf', '16_fedex_1_34.pdf', '17_firstscolar_1_57.pdf', '18_google_1_14.pdf', '19_intel_1_86.pdf', '20_jpmorgan_1_61.pdf', '21_microsoft_1_89.pdf', '22_rockwell_1_58.pdf', '23_ibm_1_49.pdf', '24_traveler_1_147.pdf', '25_visa_1_52.pdf']: 'list' object has no attribute 'strip'\n"
     ]
    }
   ],
   "source": [
    "xml_parse.parse_xml(file_list)"
   ]
  },
  {
   "attachments": {},
   "cell_type": "markdown",
   "metadata": {},
   "source": [
    "# Appendix"
   ]
  },
  {
   "cell_type": "code",
   "execution_count": null,
   "metadata": {},
   "outputs": [],
   "source": [
    "# old recur\n",
    "def recur_element(element):\n",
    "    # print(element.tag, element.text)\n",
    "    # if element.tag == 'H1' or element.tag == 'H2' or element.tag == 'H3' or element.tag == 'TOCI':\n",
    "    #     paragraph.append(element.text)\n",
    "    if element.tag == 'P' and len(element.text.split()) > 5:\n",
    "        paragraph.append(element.text)\n",
    "    elif element.tag == 'L':\n",
    "        text = ''\n",
    "        for list_element in element:\n",
    "            x = recur_element(list_element)\n",
    "            text = text if(x == None) else text + x\n",
    "        paragraph.append(text)\n",
    "    elif element.tag == 'LI':\n",
    "        return element.text\n",
    "    for sub_child in element:\n",
    "        recur_element(sub_child)"
   ]
  },
  {
   "cell_type": "code",
   "execution_count": null,
   "metadata": {},
   "outputs": [],
   "source": [
    "def preprocess(x):\n",
    "    x = x.replace('\\n', ' ')\n",
    "    x = re.sub(r'\\’', '\\'', x)\n",
    "    x = contractions.fix(x)\n",
    "    x = re.sub(r'[^\\x00-\\x7F]', '', x)\n",
    "    x = re.sub(r'[\\x0C]', r\"\\n\\n\", x)\n",
    "    x = re.sub(r'[!\\\"#$%&\\'()*\\+,-.\\/:;<=>?@\\[\\\\\\]^_`{|}~]', '', x)\n",
    "    x = x.replace('\\t', ' ')\n",
    "    x = x.strip()\n",
    "    x = ' '.join(wordsegment.segment(x))\n",
    "    if len(x.split()) < 10:\n",
    "        return None\n",
    "    return x"
   ]
  },
  {
   "cell_type": "code",
   "execution_count": null,
   "metadata": {},
   "outputs": [],
   "source": [
    "def parse_xml(file: str):\n",
    "    file_name = file.strip('.pdf')\n",
    "    paragraph = []\n",
    "    tree = ET.parse(f'../taiwanxml/{file_name}.xml')\n",
    "    root = tree.getroot()\n",
    "    recur_element(root)\n",
    "    paragraph = map(preprocess, paragraph)\n",
    "    paragraph = [x for x in paragraph if x is not None]\n",
    "    paragraph = pd.DataFrame({'paragraph': paragraph})\n",
    "    paragraph.to_csv(f'../taiwan_xml/{file_name}.csv', sep=',', index=False, encoding='utf-8')"
   ]
  },
  {
   "cell_type": "code",
   "execution_count": null,
   "metadata": {},
   "outputs": [],
   "source": [
    "for file in file_list:\n",
    "    print(file)\n",
    "    file_name = file.strip('.pdf')\n",
    "    paragraph = []\n",
    "    tree = ET.parse(f'../taiwanxml/{file_name}.xml')\n",
    "    root = tree.getroot()\n",
    "    recur_element(root)\n",
    "    paragraph = map(preprocess, paragraph)\n",
    "    paragraph = [x for x in paragraph if x is not None]\n",
    "    paragraph = pd.DataFrame({'paragraph': paragraph})\n",
    "    paragraph.to_csv(f'../taiwan_xml/{file_name}.csv', sep=',', index=False, encoding='utf-8')"
   ]
  }
 ],
 "metadata": {
  "kernelspec": {
   "display_name": "esgbert",
   "language": "python",
   "name": "python3"
  },
  "language_info": {
   "codemirror_mode": {
    "name": "ipython",
    "version": 3
   },
   "file_extension": ".py",
   "mimetype": "text/x-python",
   "name": "python",
   "nbconvert_exporter": "python",
   "pygments_lexer": "ipython3",
   "version": "3.9.7"
  },
  "orig_nbformat": 4
 },
 "nbformat": 4,
 "nbformat_minor": 2
}

{
 "cells": [
  {
   "cell_type": "code",
   "execution_count": 1,
   "metadata": {},
   "outputs": [],
   "source": [
    "import sys\n",
    "sys.path.append('d:\\\\VScodeProject\\\\ESG-GPT\\\\notebooks\\\\')"
   ]
  },
  {
   "cell_type": "code",
   "execution_count": 2,
   "metadata": {},
   "outputs": [],
   "source": [
    "from utils import utils\n",
    "from utils.xml_parse import XmlParse"
   ]
  },
  {
   "cell_type": "code",
   "execution_count": 3,
   "metadata": {},
   "outputs": [],
   "source": [
    "# american or taiwan\n",
    "NATION = 'american'\n",
    "# xml source path\n",
    "XML_PATH = '../../data/xml'\n",
    "# csv source path\n",
    "CSV_PATH = '../../data/csv_source/'\n",
    "# min sentence length\n",
    "MIN_SENTENCE_LEN = 10"
   ]
  },
  {
   "cell_type": "code",
   "execution_count": 4,
   "metadata": {},
   "outputs": [],
   "source": [
    "file_list = utils.get_all_file_list(NATION)"
   ]
  },
  {
   "cell_type": "code",
   "execution_count": 5,
   "metadata": {},
   "outputs": [
    {
     "data": {
      "text/plain": [
       "['1_dow_1_85.pdf',\n",
       " '2_agilent_1_106.pdf',\n",
       " '3_amazon_1_79.pdf',\n",
       " '4_apple_1_72.pdf',\n",
       " '5_boeing_1_66.pdf',\n",
       " '6_bxp_1_65.pdf',\n",
       " '7_charles_1_50.pdf',\n",
       " '8_cisco_1_56.pdf',\n",
       " '9_citigroup_1_137.pdf',\n",
       " '10_cme_1_34.pdf',\n",
       " '11_colgate_1_84.pdf',\n",
       " '12_corning_1_71.pdf',\n",
       " '13_expeditor_1_37.pdf',\n",
       " '14_eei_1_80.pdf',\n",
       " '15_itt_1_44.pdf',\n",
       " '16_fedex_1_34.pdf',\n",
       " '17_firstscolar_1_57.pdf',\n",
       " '18_google_1_14.pdf',\n",
       " '19_intel_1_86.pdf',\n",
       " '20_jpmorgan_1_61.pdf',\n",
       " '21_microsoft_1_89.pdf',\n",
       " '22_rockwell_1_58.pdf',\n",
       " '23_ibm_1_49.pdf',\n",
       " '24_traveler_1_147.pdf',\n",
       " '25_visa_1_52.pdf',\n",
       " '0710_Tino_clean.pdf']"
      ]
     },
     "execution_count": 5,
     "metadata": {},
     "output_type": "execute_result"
    }
   ],
   "source": [
    "file_list"
   ]
  },
  {
   "cell_type": "code",
   "execution_count": 6,
   "metadata": {},
   "outputs": [],
   "source": [
    "file_list.remove('5_boeing_1_66.pdf')"
   ]
  },
  {
   "cell_type": "code",
   "execution_count": 7,
   "metadata": {},
   "outputs": [
    {
     "ename": "TypeError",
     "evalue": "XmlParse.__init__() missing 1 required positional argument: 'sentence_min_len'",
     "output_type": "error",
     "traceback": [
      "\u001b[1;31m---------------------------------------------------------------------------\u001b[0m",
      "\u001b[1;31mTypeError\u001b[0m                                 Traceback (most recent call last)",
      "Cell \u001b[1;32mIn[7], line 1\u001b[0m\n\u001b[1;32m----> 1\u001b[0m xml_parse \u001b[38;5;241m=\u001b[39m \u001b[43mXmlParse\u001b[49m\u001b[43m(\u001b[49m\u001b[43mNATION\u001b[49m\u001b[43m,\u001b[49m\u001b[43m \u001b[49m\u001b[43mXML_PATH\u001b[49m\u001b[43m,\u001b[49m\u001b[43m \u001b[49m\u001b[43mCSV_PATH\u001b[49m\u001b[43m)\u001b[49m\n\u001b[0;32m      2\u001b[0m xml_parse\u001b[38;5;241m.\u001b[39mparse_xml(file_list)\n",
      "\u001b[1;31mTypeError\u001b[0m: XmlParse.__init__() missing 1 required positional argument: 'sentence_min_len'"
     ]
    }
   ],
   "source": [
    "xml_parse = XmlParse(NATION, XML_PATH, CSV_PATH, )\n",
    "xml_parse.parse_xml(file_list)"
   ]
  },
  {
   "attachments": {},
   "cell_type": "markdown",
   "metadata": {},
   "source": [
    "# Appendix"
   ]
  }
 ],
 "metadata": {
  "kernelspec": {
   "display_name": "esgbert",
   "language": "python",
   "name": "python3"
  },
  "language_info": {
   "codemirror_mode": {
    "name": "ipython",
    "version": 3
   },
   "file_extension": ".py",
   "mimetype": "text/x-python",
   "name": "python",
   "nbconvert_exporter": "python",
   "pygments_lexer": "ipython3",
   "version": "3.12.0"
  },
  "orig_nbformat": 4
 },
 "nbformat": 4,
 "nbformat_minor": 2
}

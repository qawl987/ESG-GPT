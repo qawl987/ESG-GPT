{
 "cells": [
  {
   "cell_type": "code",
   "execution_count": 5,
   "metadata": {},
   "outputs": [],
   "source": [
    "import os\n",
    "import openai\n",
    "from dotenv import load_dotenv\n",
    "import pandas as pd\n",
    "load_dotenv()\n",
    "openai.api_key = os.environ.get(\"OPENAI_API_KEY\")"
   ]
  },
  {
   "cell_type": "code",
   "execution_count": 2,
   "metadata": {},
   "outputs": [],
   "source": [
    "def get_label(df):\n",
    "    label = []\n",
    "    broken = []\n",
    "    for i in range(len(df)):\n",
    "        paragraph = df[i]\n",
    "        if(i == len(df) // 2):\n",
    "            print(i)\n",
    "        # time.sleep(2)\n",
    "        try:\n",
    "            completion = openai.ChatCompletion.create(\n",
    "            model=\"gpt-3.5-turbo\",\n",
    "            messages=[\n",
    "                {\"role\": \"system\", \"content\": \"The assistant is a ESG-investing field advisor,choose at most top three related keys of the paragraph. Return the corresponding values each range from 0 to 26 using LDA_table dictionary below.\"\\\n",
    "                \"LDA_table dictionary below constructed by {'key': value},return only the value without key.\"\n",
    "                \"Do not return the key of the LDA_table dictionary.\"\n",
    "                \"LDA_table dictionary:\\\n",
    "                {'Business ethics': 0, 'Data security': 1, 'Access_And_Affordability': 2, 'Business_Model_Resilience': 3, 'Competitive_Behavior': 4,\\\n",
    "                'Critical_Incident_Risk_Management': 5, 'Customer_Welfare': 6, 'Director_Removal': 7, 'Employee_Engagement_Inclusion_And_Diversity': 8,\\\n",
    "                'Employee_Health_And_Safety': 9, 'Human_Rights_And_Community_Relations': 10, 'Labor_Practices': 11, 'Management_Of_Legal_And_Regulatory_Framework': 12,\\\n",
    "                'Physical_Impacts_Of_Climate_Change': 13, 'Product_Quality_And_Safety': 14, 'Product_Design_And_Lifecycle_Management': 15,\\\n",
    "                'Selling_Practices_And_Product_Labeling': 16, 'Supply_Chain_Management': 17, 'Systemic_Risk_Management': 18,\\\n",
    "                'Waste_And_Hazardous_Materials_Management': 19, 'Water_And_Wastewater_Management': 20, 'Air_Quality': 21,\\\n",
    "                'Customer_Privacy': 22, 'Ecological_Impacts': 23, 'Energy_Management': 24, 'GHG_Emissions': 25, 'No_sufficient_information': 26}\"},\n",
    "                {\"role\": \"user\", \"content\": f\"paragraph: {paragraph}\"},\n",
    "                {\"role\": \"assistant\", \"content\": \"[value]\"},\n",
    "            ],\n",
    "            max_tokens = 10\n",
    "            )\n",
    "        except Exception as e:\n",
    "            broken.append(i)\n",
    "            print(i, e)\n",
    "        else:\n",
    "            label.append(completion.choices[0].message.content)\n",
    "            # print(df[i], completion.choices[0].message.content)\n",
    "    return label, broken"
   ]
  },
  {
   "cell_type": "code",
   "execution_count": 3,
   "metadata": {},
   "outputs": [],
   "source": [
    "def fill_fail_sentence(label, broken, df):\n",
    "    while(len(broken)):\n",
    "        broke_idx = broken[0]\n",
    "        paragraph = df[broke_idx]\n",
    "        del broken[0]\n",
    "        try:\n",
    "            completion = openai.ChatCompletion.create(\n",
    "            model=\"gpt-3.5-turbo\",\n",
    "            messages=[\n",
    "                {\"role\": \"system\", \"content\": \"The assistant is a ESG-investing field advisor,choose at most top three related keys of the paragraph. Return the corresponding values each range from 0 to 26 using LDA_table dictionary below.\"\\\n",
    "                \"LDA_table dictionary below constructed by {'key': value},return only the value without key.\"\n",
    "                \"Do not return the key of the LDA_table dictionary.\"\n",
    "                \"LDA_table dictionary:\\\n",
    "                {'Business ethics': 0, 'Data security': 1, 'Access_And_Affordability': 2, 'Business_Model_Resilience': 3, 'Competitive_Behavior': 4,\\\n",
    "                'Critical_Incident_Risk_Management': 5, 'Customer_Welfare': 6, 'Director_Removal': 7, 'Employee_Engagement_Inclusion_And_Diversity': 8,\\\n",
    "                'Employee_Health_And_Safety': 9, 'Human_Rights_And_Community_Relations': 10, 'Labor_Practices': 11, 'Management_Of_Legal_And_Regulatory_Framework': 12,\\\n",
    "                'Physical_Impacts_Of_Climate_Change': 13, 'Product_Quality_And_Safety': 14, 'Product_Design_And_Lifecycle_Management': 15,\\\n",
    "                'Selling_Practices_And_Product_Labeling': 16, 'Supply_Chain_Management': 17, 'Systemic_Risk_Management': 18,\\\n",
    "                'Waste_And_Hazardous_Materials_Management': 19, 'Water_And_Wastewater_Management': 20, 'Air_Quality': 21,\\\n",
    "                'Customer_Privacy': 22, 'Ecological_Impacts': 23, 'Energy_Management': 24, 'GHG_Emissions': 25, 'No_sufficient_information': 26}\"},\n",
    "                {\"role\": \"user\", \"content\": f\"paragraph: {paragraph}\"},\n",
    "                {\"role\": \"assistant\", \"content\": \"[value]\"},\n",
    "            ],\n",
    "            max_tokens = 10\n",
    "            )\n",
    "        except Exception as e:\n",
    "            print(e)\n",
    "            broken.append(broke_idx)\n",
    "        else:\n",
    "            label.insert(broke_idx, completion.choices[0].message.content)\n",
    "            print(broke_idx, completion.choices[0].message.content)\n",
    "    return label"
   ]
  },
  {
   "cell_type": "code",
   "execution_count": null,
   "metadata": {},
   "outputs": [],
   "source": [
    "file_list = ['1_dow_1_85.pdf',\n",
    "'2_agilent_1_106.pdf', '3_amazon_1_79.pdf', '4_apple_1_72.pdf',\n",
    "'5_boeing_1_66.pdf', '6_bxp_1_65.pdf', '7_charles_1_50.pdf', '8_cisco_1_56.pdf', '9_citigroup_1_137.pdf', '10_cme_1_34.pdf', \n",
    "'11_colgate_1_84.pdf', '12_corning_1_71.pdf', '13_expeditor_1_37.pdf', '14_eei_1_80.pdf', '15_itt_1_44.pdf', \n",
    "'16_fedex_1_34.pdf', '17_firstscolar_1_57.pdf', '18_google_1_14.pdf', '19_intel_1_86.pdf', '20_jpmorgan_1_61.pdf', \n",
    "'21_microsoft_1_89.pdf', '22_rockwell_1_58.pdf', '23_ibm_1_49.pdf', '24_traveler_1_147.pdf', '25_visa_1_52.pdf']"
   ]
  },
  {
   "cell_type": "code",
   "execution_count": 6,
   "metadata": {},
   "outputs": [],
   "source": [
    "file_list = ['1_umc_1_154.pdf',\n",
    " '2_tsmc_1_210.pdf', '3_macronix_1_114.pdf', '4_esun_1_154.pdf', '5_eme_1_46.pdf',\n",
    " '6_asus_1_108.pdf', '7_acer_1_127.pdf', '8_witron_1_93.pdf', '9_honhai_1_22.pdf', '10_compal_1_169.pdf',\n",
    "  '11_quanta_1_123.pdf', '12_formosa_1_18.pdf', '14_qisda_1_134.pdf', '15_msi_1_97.pdf',\n",
    " '18_novatek_1_140.pdf', '19_mediatek_1_97.pdf', \n",
    "   '21_cathay_1_52.pdf', '23_fubon_1_89.pdf', '24_mega_1_68.pdf', '25_ctbc_1_117.pdf']"
   ]
  },
  {
   "cell_type": "code",
   "execution_count": 7,
   "metadata": {},
   "outputs": [
    {
     "name": "stdout",
     "output_type": "stream",
     "text": [
      "across our environmental work we are also committed to being a force for equity were working with communities on the front lines of climate change and the next generation of diverse entrepreneurs to create shared opportunity and to build a more just world [10, 8, 23]\n",
      "the environmental challenges we face today are significant and we are responding with urgency and dedication we approach our work by focusing on fundamental questions what matters most and where can we make the greatest impact these questions guide our work across our strategic focus areas of climate change resources and smarter chemistry 13, 14, 25\n"
     ]
    }
   ],
   "source": [
    "# for check model effect delete later\n",
    "file_name = 'apple_3&gpt_label'\n",
    "df = pd.read_csv(f'{file_name}.csv')\n",
    "paragraph = df['paragraph']\n",
    "label, broken = get_label(paragraph)\n",
    "# print(label)\n",
    "# label = fill_fail_sentence(label, broken, paragraph)\n",
    "# new_label = pd.Series(label, name='GPTOutput_label', dtype='int64')\n",
    "# ans = pd.concat([df, new_label], axis=1)\n",
    "# ans.to_csv(f'apple_4label_keywords_expalin.csv', index=False)"
   ]
  },
  {
   "cell_type": "code",
   "execution_count": 7,
   "metadata": {},
   "outputs": [
    {
     "name": "stdout",
     "output_type": "stream",
     "text": [
      "1_umc_1_154.pdf\n",
      "101 Request timed out: HTTPSConnectionPool(host='api.openai.com', port=443): Read timed out. (read timeout=600)\n",
      "418 Request timed out: HTTPSConnectionPool(host='api.openai.com', port=443): Read timed out. (read timeout=600)\n",
      "833 Request timed out: HTTPSConnectionPool(host='api.openai.com', port=443): Read timed out. (read timeout=600)\n",
      "850\n",
      "101 8, 10, 26\n",
      "418 11\n",
      "833 3, 8, 10\n",
      "2_tsmc_1_210.pdf\n",
      "578 Request timed out: HTTPSConnectionPool(host='api.openai.com', port=443): Read timed out. (read timeout=600)\n",
      "931\n",
      "578 [0, 8, 23]\n",
      "3_macronix_1_114.pdf\n",
      "361\n",
      "4_esun_1_154.pdf\n",
      "105 Request timed out: HTTPSConnectionPool(host='api.openai.com', port=443): Read timed out. (read timeout=600)\n",
      "196 Request timed out: HTTPSConnectionPool(host='api.openai.com', port=443): Read timed out. (read timeout=600)\n",
      "427 Request timed out: HTTPSConnectionPool(host='api.openai.com', port=443): Read timed out. (read timeout=600)\n",
      "743\n",
      "105 [2, 4, 17]\n",
      "196 [17, 0, 26]\n",
      "427 [3, 23]\n",
      "5_eme_1_46.pdf\n",
      "84\n",
      "6_asus_1_108.pdf\n",
      "219 Request timed out: HTTPSConnectionPool(host='api.openai.com', port=443): Read timed out. (read timeout=600)\n",
      "332 Request timed out: HTTPSConnectionPool(host='api.openai.com', port=443): Read timed out. (read timeout=600)\n",
      "453\n",
      "860 Request timed out: HTTPSConnectionPool(host='api.openai.com', port=443): Read timed out. (read timeout=600)\n",
      "219 [19, 26, 26]\n",
      "332 [12, 25, 26]\n",
      "860 [0, 7, 12]\n",
      "7_acer_1_127.pdf\n",
      "600\n",
      "8_witron_1_93.pdf\n",
      "149\n",
      "9_honhai_1_22.pdf\n",
      "72\n",
      "10_compal_1_169.pdf\n",
      "456\n",
      "11_quanta_1_123.pdf\n",
      "347\n",
      "12_formosa_1_18.pdf\n",
      "55\n",
      "14_qisda_1_134.pdf\n",
      "351\n",
      "15_msi_1_97.pdf\n",
      "292\n",
      "18_novatek_1_140.pdf\n",
      "79 Request timed out: HTTPSConnectionPool(host='api.openai.com', port=443): Read timed out. (read timeout=600)\n",
      "578\n",
      "809 Request timed out: HTTPSConnectionPool(host='api.openai.com', port=443): Read timed out. (read timeout=600)\n",
      "79 26\n",
      "809 26\n",
      "19_mediatek_1_97.pdf\n",
      "539\n",
      "21_cathay_1_52.pdf\n",
      "71\n",
      "23_fubon_1_89.pdf\n",
      "642\n",
      "24_mega_1_68.pdf\n",
      "410\n",
      "25_ctbc_1_117.pdf\n",
      "395\n"
     ]
    }
   ],
   "source": [
    "for file in file_list:\n",
    "    print(file)\n",
    "    file_name = file.strip('.pdf')\n",
    "    df = pd.read_csv(f'./csv/xml_taiwan/{file_name}.csv')\n",
    "    df = df['paragraph']\n",
    "    label, broken = get_label(df)\n",
    "    label = fill_fail_sentence(label, broken, df)\n",
    "    ans = pd.DataFrame({'paragraph': df, 'label': label})\n",
    "    ans.to_csv(f'./csv/predict_taiwan_3label/{file_name}.csv', index=False)"
   ]
  },
  {
   "attachments": {},
   "cell_type": "markdown",
   "metadata": {},
   "source": [
    "# Appendix"
   ]
  }
 ],
 "metadata": {
  "kernelspec": {
   "display_name": "esg",
   "language": "python",
   "name": "python3"
  },
  "language_info": {
   "codemirror_mode": {
    "name": "ipython",
    "version": 3
   },
   "file_extension": ".py",
   "mimetype": "text/x-python",
   "name": "python",
   "nbconvert_exporter": "python",
   "pygments_lexer": "ipython3",
   "version": "3.9.7"
  },
  "orig_nbformat": 4
 },
 "nbformat": 4,
 "nbformat_minor": 2
}
